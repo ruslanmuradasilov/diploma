{
 "cells": [
  {
   "cell_type": "markdown",
   "metadata": {},
   "source": [
    "# Uniform distribution\n",
    "\n",
    "$$p(x) = \\frac{1}{b - a}$$\n",
    "\n",
    "anywhere within the interval [a, b), and zero elsewhere."
   ]
  },
  {
   "cell_type": "markdown",
   "metadata": {},
   "source": [
    "https://numpy.org/doc/stable/reference/random/generated/numpy.random.uniform.html"
   ]
  },
  {
   "cell_type": "code",
   "execution_count": 3,
   "metadata": {},
   "outputs": [],
   "source": [
    "import numpy as np\n",
    "import matplotlib.pyplot as plt\n",
    "from scipy.stats import uniform\n",
    "from sklearn.mixture import GaussianMixture as gmm\n",
    "import math"
   ]
  },
  {
   "cell_type": "code",
   "execution_count": 6,
   "metadata": {},
   "outputs": [
    {
     "name": "stderr",
     "output_type": "stream",
     "text": [
      "c:\\users\\user\\appdata\\local\\programs\\python\\python37\\lib\\site-packages\\ipykernel_launcher.py:25: UserWarning: Matplotlib is currently using module://ipykernel.pylab.backend_inline, which is a non-GUI backend, so cannot show the figure.\n"
     ]
    },
    {
     "data": {
      "image/png": "[encoded data removed]",
      "text/plain": [
       "<Figure size 432x288 with 1 Axes>"
      ]
     },
     "metadata": {
      "needs_background": "light"
     },
     "output_type": "display_data"
    }
   ],
   "source": [
    "np.random.seed(0)\n",
    "a = 0\n",
    "b = 5\n",
    "size = 100\n",
    "\n",
    "fig, ax = plt.subplots(1, 1)\n",
    "\n",
    "# Generating uniform distribution\n",
    "uni = uniform(loc=a, scale=b)\n",
    "x = np.linspace(uni.ppf(0), uni.ppf(1), size)\n",
    "\n",
    "# Plotting pdf\n",
    "data = uni.pdf(x)\n",
    "ax.plot(x, data, 'r-', lw=5, alpha=0.6, label='pdf')\n",
    "\n",
    "# Plotting cdf\n",
    "cdf = uni.cdf(x)\n",
    "ax.plot(x, cdf, 'k-', lw=2, label='cdf')\n",
    "ax.legend(loc='best', frameon=False)\n",
    "\n",
    "# Histogram\n",
    "# ax.hist(data.rvs(size=size), density=True, histtype='stepfilled', alpha=0.2)\n",
    "# ax.set_ylim(-0.05, 1.05)\n",
    "\n",
    "fig.show()"
   ]
  },
  {
   "cell_type": "code",
   "execution_count": 7,
   "metadata": {},
   "outputs": [],
   "source": [
    "data = data.reshape(-1, 1)"
   ]
  },
  {
   "cell_type": "code",
   "execution_count": 8,
   "metadata": {},
   "outputs": [
    {
     "name": "stdout",
     "output_type": "stream",
     "text": [
      "[[0.2]]\n",
      "[[[0.001]]]\n",
      "0.19999999999999996\n",
      "5.551115123125783e-17\n"
     ]
    }
   ],
   "source": [
    "k = 1\n",
    "model = gmm(n_components=k, covariance_type='full')\n",
    "model.fit(data)\n",
    "\n",
    "print(model.means_)\n",
    "print(np.sqrt(model.covariances_))\n",
    "print(np.mean(data))\n",
    "print(np.std(data))"
   ]
  },
  {
   "cell_type": "code",
   "execution_count": null,
   "metadata": {},
   "outputs": [],
   "source": []
  }
 ],
 "metadata": {
  "kernelspec": {
   "display_name": "Python 3",
   "language": "python",
   "name": "python3"
  },
  "language_info": {
   "codemirror_mode": {
    "name": "ipython",
    "version": 3
   },
   "file_extension": ".py",
   "mimetype": "text/x-python",
   "name": "python",
   "nbconvert_exporter": "python",
   "pygments_lexer": "ipython3",
   "version": "3.7.4"
  }
 },
 "nbformat": 4,
 "nbformat_minor": 4
}
