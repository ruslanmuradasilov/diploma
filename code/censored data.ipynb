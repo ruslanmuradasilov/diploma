{
 "cells": [
  {
   "cell_type": "code",
   "execution_count": 49,
   "metadata": {},
   "outputs": [],
   "source": [
    "import numpy as np\n",
    "import matplotlib.pyplot as plt\n",
    "from sklearn.mixture import GaussianMixture as GMM\n",
    "from scipy.stats import multivariate_normal as mvn\n",
    "from math import sqrt"
   ]
  },
  {
   "cell_type": "code",
   "execution_count": 50,
   "metadata": {},
   "outputs": [],
   "source": [
    "data = np.array([[777, 1],\n",
    "[781, 0],\n",
    "[843, 0],\n",
    "[866, 0],\n",
    "[869, 1],\n",
    "[872, 1],\n",
    "[876, 1],\n",
    "[893, 1],\n",
    "[894, 1],\n",
    "[895, 0],\n",
    "[898, 1],\n",
    "[906, 0],\n",
    "[907, 1],\n",
    "[909, 1],\n",
    "[911, 1],\n",
    "[911, 0],\n",
    "[914, 0],\n",
    "[927, 1],\n",
    "[932, 1],\n",
    "[936, 0],\n",
    "[940, 0],\n",
    "[942.5, 0],\n",
    "[943, 0],\n",
    "[945, 1],\n",
    "[945, 0],\n",
    "[948, 1],\n",
    "[951, 0],\n",
    "[953, 0],\n",
    "[956, 0],\n",
    "[957, 1],\n",
    "[957, 0],\n",
    "[959, 0],\n",
    "[960, 0],\n",
    "[966, 1],\n",
    "[966, 0],\n",
    "[969, 1],\n",
    "[970, 0],\n",
    "[971, 1],\n",
    "[972, 0],\n",
    "[973, 0],\n",
    "[977, 0],\n",
    "[983, 1],\n",
    "[984, 0],\n",
    "[985, 1],\n",
    "[989, 1],\n",
    "[992.5, 1],\n",
    "[993, 1],\n",
    "[996, 1],\n",
    "[998, 1],\n",
    "[1001, 0],\n",
    "[1002, 0],\n",
    "[1005, 0],\n",
    "[1006, 0],\n",
    "[1009, 1],\n",
    "[1011.5, 1],\n",
    "[1012, 1],\n",
    "[1012, 0],\n",
    "[1013, 0],\n",
    "[1015, 0],\n",
    "[1016, 0],\n",
    "[1018, 0],\n",
    "[1022, 1],\n",
    "[1023, 0],\n",
    "[1025, 1],\n",
    "[1027, 0],\n",
    "[1029, 1],\n",
    "[1031, 1],\n",
    "[1031, 0],\n",
    "[1031.5, 0],\n",
    "[1033, 1],\n",
    "[1036, 1],\n",
    "[1043, 1],\n",
    "[1043, 0],\n",
    "[1044, 1],\n",
    "[1044, 0],\n",
    "[1045, 0],\n",
    "[1047, 0],\n",
    "[1053, 1],\n",
    "[1055, 1],\n",
    "[1058, 0],\n",
    "[1059, 1],\n",
    "[1060, 1],\n",
    "[1060, 0],\n",
    "[1064, 0],\n",
    "[1070, 0],\n",
    "[1073, 0],\n",
    "[1080, 1],\n",
    "[1085, 1],\n",
    "[1093, 0],\n",
    "[1093.5, 1],\n",
    "[1094, 1],\n",
    "[1106, 0],\n",
    "[1107, 0],\n",
    "[1118, 0],\n",
    "[1128, 1],\n",
    "[1139, 1],\n",
    "[1153, 0]])"
   ]
  },
  {
   "cell_type": "code",
   "execution_count": 51,
   "metadata": {},
   "outputs": [
    {
     "data": {
      "text/plain": [
       "(97, 2)"
      ]
     },
     "execution_count": 51,
     "metadata": {},
     "output_type": "execute_result"
    }
   ],
   "source": [
    "data.shape"
   ]
  },
  {
   "cell_type": "code",
   "execution_count": 52,
   "metadata": {},
   "outputs": [
    {
     "data": {
      "image/png": "[encoded data removed]",
      "text/plain": [
       "<Figure size 432x288 with 1 Axes>"
      ]
     },
     "metadata": {
      "needs_background": "light"
     },
     "output_type": "display_data"
    }
   ],
   "source": [
    "mu = np.mean(data)\n",
    "sigma = np.std(data)\n",
    "x = np.linspace(mu - sigma, mu + 3*sigma, 97)\n",
    "X = np.meshgrid(x)\n",
    "X = np.array(X).reshape(-1, 1)\n",
    "\n",
    "plt.plot(X, data)\n",
    "plt.show()"
   ]
  },
  {
   "cell_type": "code",
   "execution_count": 53,
   "metadata": {},
   "outputs": [
    {
     "data": {
      "text/plain": [
       "(194, 1)"
      ]
     },
     "execution_count": 53,
     "metadata": {},
     "output_type": "execute_result"
    }
   ],
   "source": [
    "data_processed = data.reshape(-1, 1)\n",
    "data_processed.shape"
   ]
  },
  {
   "cell_type": "code",
   "execution_count": 54,
   "metadata": {
    "scrolled": true
   },
   "outputs": [
    {
     "data": {
      "text/plain": [
       "97"
      ]
     },
     "execution_count": 54,
     "metadata": {},
     "output_type": "execute_result"
    }
   ],
   "source": [
    "# k = 1\n",
    "# model = GMM(n_components=k, max_iter=10000, covariance_type='full')\n",
    "# model.fit(data_processed)\n",
    "# print(model.means_)\n",
    "# print(np.sqrt(model.covariances_))\n",
    "# print(mu)\n",
    "# print(sigma)\n",
    "\n",
    "n = len(data)\n",
    "n"
   ]
  },
  {
   "cell_type": "code",
   "execution_count": 55,
   "metadata": {},
   "outputs": [],
   "source": [
    "def one_minus_H_n(x, data):\n",
    "    n = len(data)\n",
    "    result = 0\n",
    "    for i in range(n):\n",
    "        result += 1 if data[i][0] > x else 0\n",
    "    result /= n\n",
    "    return result"
   ]
  },
  {
   "cell_type": "code",
   "execution_count": 56,
   "metadata": {},
   "outputs": [],
   "source": [
    "def Lambda_1n(x, data):\n",
    "    n = len(data)\n",
    "    result = 0\n",
    "    numerator = 0\n",
    "    denominator = 0\n",
    "    for i in range(n):\n",
    "        denominator = 0\n",
    "        numerator = data[i][1] * (1 if data[i][0] <= x else 0)\n",
    "        for j in range(n):\n",
    "            denominator += (1 if data[j][0] >= data[i][0] else 0)\n",
    "        result += numerator / denominator\n",
    "    return result"
   ]
  },
  {
   "cell_type": "code",
   "execution_count": 57,
   "metadata": {},
   "outputs": [],
   "source": [
    "def Lambda_n(x, data):\n",
    "    n = len(data)\n",
    "    result = 0\n",
    "    numerator = 0\n",
    "    denominator = 0\n",
    "    for i in range(n):\n",
    "        denominator = 0\n",
    "        numerator = 1 if data[i][0] <= x else 0\n",
    "        for j in range(n):\n",
    "            denominator += (1 if data[j][0] >= data[i][0] else 0)\n",
    "        result += numerator / denominator\n",
    "    return result"
   ]
  },
  {
   "cell_type": "code",
   "execution_count": 58,
   "metadata": {},
   "outputs": [],
   "source": [
    "def FnRR(x, data):\n",
    "    result = 1 - one_minus_H_n(x, data)**(Lambda_1n(x, data) / Lambda_n(x, data))\n",
    "    return result"
   ]
  },
  {
   "cell_type": "code",
   "execution_count": 59,
   "metadata": {},
   "outputs": [
    {
     "data": {
      "image/png": "[encoded data removed]",
      "text/plain": [
       "<Figure size 432x288 with 1 Axes>"
      ]
     },
     "metadata": {
      "needs_background": "light"
     },
     "output_type": "display_data"
    }
   ],
   "source": [
    "z = [data[i][0] for i in range(97)]\n",
    "\n",
    "plt.plot(z, [FnRR(t, data) for t in z], color='g', label='FnRR')\n",
    "plt.legend()\n",
    "plt.show()"
   ]
  },
  {
   "cell_type": "code",
   "execution_count": 60,
   "metadata": {},
   "outputs": [],
   "source": [
    "def calculate_mu_and_sigma(z, data):\n",
    "    n = len(data)\n",
    "    mu = z[0] * FnRR(z[0], data)\n",
    "    for i in range(2, n):\n",
    "        mu += z[i] * ( FnRR(z[i], data) - FnRR(z[i-1], data) )\n",
    "    variance = (z[0] - mu) ** 2 * FnRR(z[0], data)\n",
    "    for i in range(2, n):\n",
    "        variance += (z[i] - mu) ** 2 * ( FnRR(z[i], data) - FnRR(z[i-1], data) )\n",
    "    sigma = sqrt(variance)\n",
    "    return mu, sigma"
   ]
  },
  {
   "cell_type": "code",
   "execution_count": 61,
   "metadata": {},
   "outputs": [
    {
     "name": "stdout",
     "output_type": "stream",
     "text": [
      "1039.7833741995091\n",
      "81.9647172814403\n"
     ]
    }
   ],
   "source": [
    "mu, sigma = calculate_mu_and_sigma(z, data)\n",
    "\n",
    "print(mu)\n",
    "print(sigma)"
   ]
  },
  {
   "cell_type": "code",
   "execution_count": 62,
   "metadata": {},
   "outputs": [],
   "source": [
    "data_processed = (data[:, 0] - mu) / sigma\n",
    "#data_norm = np.delete(data_norm, 1, 1)  # delete second column of C\n",
    "data_processed = np.c_[data_processed, data[:, 1]]"
   ]
  },
  {
   "cell_type": "code",
   "execution_count": 63,
   "metadata": {},
   "outputs": [
    {
     "data": {
      "image/png": "[encoded data removed]",
      "text/plain": [
       "<Figure size 432x288 with 1 Axes>"
      ]
     },
     "metadata": {
      "needs_background": "light"
     },
     "output_type": "display_data"
    }
   ],
   "source": [
    "z = [data_processed[i][0] for i in range(97)]\n",
    "\n",
    "plt.plot(z, [FnRR(t, data_processed) for t in z], color='g', label='FnRR')\n",
    "plt.legend()\n",
    "plt.show()"
   ]
  },
  {
   "cell_type": "code",
   "execution_count": 64,
   "metadata": {},
   "outputs": [
    {
     "name": "stdout",
     "output_type": "stream",
     "text": [
      "3.5417227168543786e-06\n",
      "0.9999999999937279\n"
     ]
    }
   ],
   "source": [
    "z = [data_processed[i][0] for i in range(97)]\n",
    "\n",
    "mu, sigma = calculate_mu_and_sigma(z, data_processed)\n",
    "\n",
    "print(mu)\n",
    "print(sigma)"
   ]
  },
  {
   "cell_type": "code",
   "execution_count": 65,
   "metadata": {},
   "outputs": [],
   "source": [
    "data_processed = data_processed[:, 0].reshape(-1, 1)"
   ]
  },
  {
   "cell_type": "code",
   "execution_count": 66,
   "metadata": {},
   "outputs": [
    {
     "name": "stdout",
     "output_type": "stream",
     "text": [
      "[[-0.58832044]]\n",
      "[[[0.8946689]]]\n"
     ]
    }
   ],
   "source": [
    "k = 1\n",
    "model = GMM(n_components=k, max_iter=10000, covariance_type='full')\n",
    "model.fit(data_processed)\n",
    "print(model.means_)\n",
    "print(np.sqrt(model.covariances_))"
   ]
  },
  {
   "cell_type": "code",
   "execution_count": 67,
   "metadata": {},
   "outputs": [
    {
     "data": {
      "text/plain": [
       "array([-3.20605479, -3.1572533 , -2.40083027, -2.12022172, -2.08362061,\n",
       "       -2.0470195 , -1.99821801, -1.79081169, -1.77861132, -1.76641095,\n",
       "       -1.72980984, -1.63220686, -1.62000649, -1.59560575, -1.57120501,\n",
       "       -1.57120501, -1.53460389, -1.37599906, -1.31499721, -1.26619572,\n",
       "       -1.21739423, -1.18689331, -1.18079312, -1.15639238, -1.15639238,\n",
       "       -1.11979126, -1.08319015, -1.0587894 , -1.02218829, -1.00998792,\n",
       "       -1.00998792, -0.98558718, -0.9733868 , -0.90018458, -0.90018458,\n",
       "       -0.86358346, -0.85138309, -0.83918272, -0.82698235, -0.81478197,\n",
       "       -0.76598049, -0.69277826, -0.68057789, -0.66837752, -0.61957603,\n",
       "       -0.57687473, -0.57077454, -0.53417343, -0.50977269, -0.47317157,\n",
       "       -0.4609712 , -0.42437009, -0.41216972, -0.3755686 , -0.34506767,\n",
       "       -0.33896749, -0.33896749, -0.32676712, -0.30236637, -0.290166  ,\n",
       "       -0.26576526, -0.21696377, -0.2047634 , -0.18036266, -0.15596191,\n",
       "       -0.13156117, -0.10716043, -0.10716043, -0.10106024, -0.08275969,\n",
       "       -0.04615857,  0.03924403,  0.03924403,  0.0514444 ,  0.0514444 ,\n",
       "        0.06364477,  0.08804552,  0.16124774,  0.18564849,  0.2222496 ,\n",
       "        0.23444997,  0.24665035,  0.24665035,  0.29545183,  0.36865406,\n",
       "        0.40525517,  0.49065777,  0.55165963,  0.6492626 ,  0.65536279,\n",
       "        0.66146298,  0.80786743,  0.82006781,  0.95427189,  1.07627561,\n",
       "        1.21047969,  1.38128489])"
      ]
     },
     "execution_count": 67,
     "metadata": {},
     "output_type": "execute_result"
    }
   ],
   "source": [
    "data_norm[:, 0]"
   ]
  },
  {
   "cell_type": "code",
   "execution_count": null,
   "metadata": {},
   "outputs": [],
   "source": []
  }
 ],
 "metadata": {
  "kernelspec": {
   "display_name": "Python 3",
   "language": "python",
   "name": "python3"
  },
  "language_info": {
   "codemirror_mode": {
    "name": "ipython",
    "version": 3
   },
   "file_extension": ".py",
   "mimetype": "text/x-python",
   "name": "python",
   "nbconvert_exporter": "python",
   "pygments_lexer": "ipython3",
   "version": "3.7.4"
  }
 },
 "nbformat": 4,
 "nbformat_minor": 4
}
